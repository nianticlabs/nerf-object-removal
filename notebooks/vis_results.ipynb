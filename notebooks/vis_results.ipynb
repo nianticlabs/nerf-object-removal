{
 "cells": [
  {
   "cell_type": "code",
   "execution_count": null,
   "id": "08f1dac4",
   "metadata": {},
   "outputs": [],
   "source": [
    "import os\n",
    "import pandas as pd"
   ]
  },
  {
   "cell_type": "code",
   "execution_count": null,
   "id": "cc9122ea",
   "metadata": {},
   "outputs": [],
   "source": [
    "EXPERIMENT_DIR = '/mnt/res_nas/silvanweder/experiments/'  # set path to your experiments"
   ]
  },
  {
   "cell_type": "code",
   "execution_count": null,
   "id": "f2e205fc",
   "metadata": {},
   "outputs": [],
   "source": [
    "print('Available Experiments:')\n",
    "for exp in os.listdir(EXPERIMENT_DIR):\n",
    "    if exp.startswith('.'):\n",
    "        continue\n",
    "    print('\\t -', exp)"
   ]
  },
  {
   "cell_type": "code",
   "execution_count": null,
   "id": "cc6df1a9",
   "metadata": {},
   "outputs": [],
   "source": [
    "# select experiments from available experiments above\n",
    "experiment = 'your_experiment_name'"
   ]
  },
  {
   "cell_type": "code",
   "execution_count": null,
   "id": "e5c43d4f",
   "metadata": {},
   "outputs": [],
   "source": [
    "results = pd.read_json(os.path.join(EXPERIMENT_DIR, experiment, 'results.json'))"
   ]
  },
  {
   "cell_type": "code",
   "execution_count": null,
   "id": "cb96115c",
   "metadata": {},
   "outputs": [],
   "source": [
    "results_per_scene = results.groupby('scene', as_index=False)[['ssim-mask', 'psnr-mask', 'lpips-mask']].mean()"
   ]
  },
  {
   "cell_type": "code",
   "execution_count": null,
   "id": "6caf4eb2",
   "metadata": {},
   "outputs": [],
   "source": [
    "results_overall = results_per_scene.mean()\n",
    "results_overall"
   ]
  }
 ],
 "metadata": {
  "kernelspec": {
   "display_name": "object-remoival",
   "language": "python",
   "name": "object-removal"
  },
  "language_info": {
   "codemirror_mode": {
    "name": "ipython",
    "version": 3
   },
   "file_extension": ".py",
   "mimetype": "text/x-python",
   "name": "python",
   "nbconvert_exporter": "python",
   "pygments_lexer": "ipython3",
   "version": "3.8.13"
  }
 },
 "nbformat": 4,
 "nbformat_minor": 5
}
